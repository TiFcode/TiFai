{
  "cells": [
    {
      "cell_type": "markdown",
      "metadata": {
        "id": "view-in-github",
        "colab_type": "text"
      },
      "source": [
        "<a href=\"https://colab.research.google.com/github/TiFcode/TiFai/blob/main/TiFai_tif3_object_recognition_1.ipynb\" target=\"_parent\"><img src=\"https://colab.research.google.com/assets/colab-badge.svg\" alt=\"Open In Colab\"/></a>"
      ]
    },
    {
      "cell_type": "code",
      "execution_count": null,
      "metadata": {
        "id": "ZJ7jXFizJg0o"
      },
      "outputs": [],
      "source": [
        "print('*** START ********************************************************')\n",
        "\n",
        "!pwd\n",
        "!ls\n",
        "\n",
        "outputDetails = False\n",
        "size = (224, 224)\n",
        "googleDriveFolderPath = '/content/drive/My Drive/Personal/Dev/ChatGPT/2023-01-05 - AI - object recognition/'"
      ]
    },
    {
      "cell_type": "code",
      "execution_count": null,
      "metadata": {
        "id": "nkqvccAKKb3Y"
      },
      "outputs": [],
      "source": [
        "from google.colab.patches import cv2_imshow\n",
        "\n",
        "def display_image(image, description):\n",
        "  print(f'{description}:')\n",
        "  print(f'Image size: {image.shape}')\n",
        "  cv2_imshow(image)\n"
      ]
    },
    {
      "cell_type": "code",
      "source": [
        "import inspect\n",
        "\n",
        "def retrieve_variable_name(var):\n",
        "    callers_local_vars = inspect.currentframe().f_back.f_locals.items()\n",
        "    return [var_name for var_name, var_val in callers_local_vars if var_val is var]\n",
        "    \n",
        "def retrieve_variable_name_from_call(var):\n",
        "    callers_local_vars = inspect.currentframe().f_back.f_back.f_locals.items()\n",
        "    return [var_name for var_name, var_val in callers_local_vars if var_val is var]\n",
        "\n",
        "def printVar(variable):\n",
        "  print(f'{retrieve_variable_name_from_call(variable)} is [{variable}]')\n",
        "\n",
        "def printVarDesc(variable, description):\n",
        "  print(f'{description} is [{variable}]')"
      ],
      "metadata": {
        "id": "51X1PO_Wzagb"
      },
      "execution_count": null,
      "outputs": []
    },
    {
      "cell_type": "code",
      "execution_count": null,
      "metadata": {
        "id": "nZH-iBWjQiJy"
      },
      "outputs": [],
      "source": [
        "from google.colab import drive\n",
        "import glob\n",
        "\n",
        "# Mount Google Drive\n",
        "drive.mount('/content/drive')\n",
        "!pwd\n",
        "!ls\n",
        "\n",
        "# Search for a file by name\n",
        "#pattern = '/content/drive/My Drive/**/*20230105_151957.jpg'\n",
        "#filenames = glob.glob(pattern, recursive=True)\n",
        "#print(filenames)\n"
      ]
    },
    {
      "cell_type": "code",
      "execution_count": null,
      "metadata": {
        "id": "VoXS308mLQwY"
      },
      "outputs": [],
      "source": [
        "import os\n",
        "import cv2\n",
        "\n",
        "def loadAndProcessAllFilesFromFolder(folderPath):\n",
        "  filenames = os.listdir(folderPath)\n",
        "\n",
        "  imagesArray = []\n",
        "  for filename in filenames:\n",
        "    filenameFullPath = folderPath + filename\n",
        "    if outputDetails:\n",
        "      print(f'Found file [{filename}] with size [{os.stat(filenameFullPath).st_size}] bytes.')\n",
        "    \n",
        "    image = cv2.imread(filenameFullPath)\n",
        "    if outputDetails:\n",
        "      display_image(image, filenameFullPath)\n",
        "    imagesArray.append(image)\n",
        "\n",
        "    if outputDetails:\n",
        "      print(f'imagesArray contains [{len(imagesArray)}] elements.')\n",
        "\n",
        "  # Resize the images to a fixed size\n",
        "  imagesArray = [cv2.resize(image, size) for image in imagesArray]\n",
        "\n",
        "  # Convert the images to a format that can be used as input to a CNN\n",
        "  imagesArray = [cv2.cvtColor(image, cv2.COLOR_BGR2RGB) for image in imagesArray]\n",
        "\n",
        "  return imagesArray"
      ]
    },
    {
      "cell_type": "code",
      "execution_count": null,
      "metadata": {
        "id": "AZm0IuQUKvyW"
      },
      "outputs": [],
      "source": [
        "print('Loading training images...')\n",
        "training_images = loadAndProcessAllFilesFromFolder(googleDriveFolderPath + 'training_images/')\n",
        "print(f'training_images contains [{len(training_images)}] images.')\n",
        "\n",
        "print('Loading validation images...')\n",
        "validation_images = loadAndProcessAllFilesFromFolder(googleDriveFolderPath + 'validation_images/')\n",
        "print(f'validation_images contains [{len(validation_images)}] images.')\n",
        "\n",
        "print('Loading search images...')\n",
        "search_images = loadAndProcessAllFilesFromFolder(googleDriveFolderPath + 'search_images/')\n",
        "print(f'search_images contains [{len(search_images)}] images.')\n",
        "\n",
        "print('*** FINISH LOADING IMAGES ********************************************************')\n"
      ]
    },
    {
      "cell_type": "code",
      "source": [
        "#from sklearn.model_selection import train_test_split\n",
        "\n",
        "# Split the object images into a training set and a validation set\n",
        "#X_train, X_val = train_test_split(object_images, test_size=0.2, random_state=42)\n"
      ],
      "metadata": {
        "id": "m0uEZhnNxZM0"
      },
      "execution_count": null,
      "outputs": []
    },
    {
      "cell_type": "code",
      "source": [
        "# Convert the lists to numpy arrays\n",
        "printVarDesc(type(training_images), \"type(training_images)\")\n",
        "printVarDesc(len(training_images), \"len(training_images)\")\n",
        "training_images = np.array(training_images)\n",
        "printVarDesc(type(training_images), \"type(training_images)\")\n",
        "printVarDesc(training_images.shape[0], \"training_images.shape[0]\")\n",
        "\n",
        "validation_images = np.array(validation_images)\n",
        "\n",
        "search_images = np.array(search_images)\n",
        "\n",
        "# Reshape the arrays\n",
        "\n",
        "training_batch_size = training_images.shape[0]\n",
        "printVar(training_batch_size)\n",
        "training_images = np.reshape(training_images, (training_batch_size, 224, 224, 3))\n",
        "printVarDesc(training_images.shape, \"training_images.shape\")\n",
        "\n",
        "validation_batch_size = validation_images.shape[0]\n",
        "printVar(validation_batch_size)\n",
        "validation_images = np.reshape(validation_images, (validation_batch_size, 224, 224, 3))\n",
        "printVarDesc(validation_images.shape, \"validation_images.shape\")\n",
        "\n",
        "# Create the target data\n",
        "target_data = np.ones(len(training_images))"
      ],
      "metadata": {
        "id": "LdlmykJG9uwD"
      },
      "execution_count": null,
      "outputs": []
    },
    {
      "cell_type": "code",
      "source": [
        "from keras.layers import Conv2D, MaxPooling2D, Flatten, Dense\n",
        "from keras.models import Sequential\n",
        "import numpy as np\n",
        "\n",
        "# Create the model\n",
        "model = Sequential()\n",
        "model.add(Conv2D(32, kernel_size=(3, 3), activation='relu', input_shape=(224, 224, 3)))\n",
        "model.add(MaxPooling2D(pool_size=(2, 2)))\n",
        "model.add(Flatten())\n",
        "model.add(Dense(64, activation='relu'))\n",
        "model.add(Dense(1, activation='sigmoid'))\n",
        "\n",
        "# Compile the model\n",
        "model.compile(loss='binary_crossentropy', optimizer='adam', metrics=['accuracy'])\n",
        "\n",
        "# Train the model\n",
        "history = model.fit(training_images, target_data, batch_size=training_batch_size, epochs=10, validation_data=(validation_images,))\n",
        "\n",
        "\n",
        "\n"
      ],
      "metadata": {
        "id": "SxhcN2KApGo8"
      },
      "execution_count": null,
      "outputs": []
    }
  ],
  "metadata": {
    "colab": {
      "private_outputs": true,
      "provenance": [],
      "history_visible": true,
      "authorship_tag": "ABX9TyNpbk3BsnMEBJ1BwGldCjhj",
      "include_colab_link": true
    },
    "kernelspec": {
      "display_name": "Python 3",
      "name": "python3"
    },
    "language_info": {
      "name": "python"
    },
    "gpuClass": "standard"
  },
  "nbformat": 4,
  "nbformat_minor": 0
}